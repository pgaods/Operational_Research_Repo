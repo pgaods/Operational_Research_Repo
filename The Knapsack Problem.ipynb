{
 "cells": [
  {
   "cell_type": "markdown",
   "id": "d212b470",
   "metadata": {},
   "source": [
    "The Knapsack problem is a typical dynamic programming problem that can be solved using integer optimization. In this Jupyter note, we will go over the basic concepts of knapsack problem as well as using Google's OR tool for optimal scheduling. This is our first attempt that delves into the field of **operational research (OR)**."
   ]
  },
  {
   "cell_type": "code",
   "execution_count": 1,
   "id": "51803add",
   "metadata": {},
   "outputs": [],
   "source": [
    "import numpy as np\n",
    "import pandas as pd\n",
    "import matplotlib as plt\n",
    "import seaborn as sns\n",
    "import os \n",
    "\n",
    "from ortools.linear_solver import pywraplp"
   ]
  },
  {
   "cell_type": "code",
   "execution_count": 2,
   "id": "2581aa23",
   "metadata": {},
   "outputs": [],
   "source": [
    "path=\"C:\\\\Users\\\\gao\\\\GAO_Jupyter_Notebook\\\\Datasets\"\n",
    "os.chdir(path)\n",
    "\n",
    "#path=\"C:\\\\Users\\\\pgao\\\\Documents\\\\PGZ Documents\\\\Programming Workshop\\\\PYTHON\\\\Open Courses on Python\\\\Udemy Course on Python\\Introduction to Data Science Using Python\\\\datasets\"\n",
    "#os.chdir(path)"
   ]
  },
  {
   "cell_type": "markdown",
   "id": "94b339a8",
   "metadata": {},
   "source": [
    "In the **knapsack problem**, we need to pack a set of items, with given values and sizes (such as weights or volumes), into a container or a set of containers (or bins) with a maximum capacity. If the total size of the items exceeds the capacity, we can't pack them all. In that case, the problem is to choose a subset of the items of maximum total value that will fit in the container. A multiple knapsack problem refers to the case where we have to fit more than one bins (containers). \n",
    "\n",
    "Here, the concept of items, values, sizes (like weights or volumes) and containers are all allegorical. One can think of OR (operating room) scheduling as exactly the same type of problem. In an OR scheduling problem, we need to pack a set of operations with given values (revenue to the hospital) and sizes (estimated surgery length), into a set of containers (actual operating rooms); each room has some maximum capacity (in terms of how long the room should be open for utilization). A similar situation is that we have a bunch of goods with different weights and values (for selling) to be packed onto one or a set of trucks. The question is how should allocate the space in the truck so that we maximize our values subject to the weight constraints and other constraints etc.\n",
    "\n",
    "Let's see the code. First, to create such a model, we need to have 3 vectors:\n",
    "\n",
    "   1. A vector of weights: this is a Python list containing the weights of each item to be allocated to the container. In the OR scheduling problem, this is the estimated duration of each operational procedure.\n",
    "   2. A vector of values: this is a Python list containing the values of the items. In the OR scheduling problem, this is the potential (estimated) revenue of each operational procedure. If these are unknown, we can set the whole vector to be a generic number (mean value of all operational procedure revenue).\n",
    "   3. A vector of capacities: this is a Python list cotaining the capacities of the bins. Bins basically the containers. In the OR scheduling problem, this is the room. "
   ]
  },
  {
   "cell_type": "code",
   "execution_count": 12,
   "id": "ab29a8fb",
   "metadata": {},
   "outputs": [
    {
     "data": {
      "text/plain": [
       "{'weights': [50,\n",
       "  30,\n",
       "  420,\n",
       "  120,\n",
       "  36,\n",
       "  48,\n",
       "  150,\n",
       "  420,\n",
       "  36,\n",
       "  240,\n",
       "  30,\n",
       "  300,\n",
       "  100,\n",
       "  30,\n",
       "  30,\n",
       "  60],\n",
       " 'values': [7600,\n",
       "  1000,\n",
       "  3000,\n",
       "  2500,\n",
       "  500,\n",
       "  3500,\n",
       "  3000,\n",
       "  1520,\n",
       "  4000,\n",
       "  1000,\n",
       "  2230,\n",
       "  4500,\n",
       "  1000,\n",
       "  2800,\n",
       "  9000,\n",
       "  900],\n",
       " 'num_items': 16,\n",
       " 'all_items': range(0, 16),\n",
       " 'bin_capacities': [360, 360, 360, 360, 360],\n",
       " 'num_bins': 5,\n",
       " 'all_bins': range(0, 5)}"
      ]
     },
     "execution_count": 12,
     "metadata": {},
     "output_type": "execute_result"
    }
   ],
   "source": [
    "data = {}\n",
    "data['weights'] = [50, 30, 420, 120, 36, 48, 150, 420, 36, 240, 30, 300, 100, 30, 30, 60]\n",
    "\n",
    "data['values'] = [7600, 1000, 3000, 2500, 500, 3500, 3000, 1520, 4000, 1000, 2230, 4500, 1000, 2800, 9000, 900] # revenue\n",
    "assert len(data['weights']) == len(data['values'])\n",
    "data['num_items'] = len(data['weights'])\n",
    "data['all_items'] = range(data['num_items'])\n",
    "\n",
    "data['bin_capacities'] = [360, 360, 360, 360, 360] # in theory it should be less than len(data['weights'])\n",
    "data['num_bins'] = len(data['bin_capacities'])\n",
    "data['all_bins'] = range(data['num_bins'])\n",
    "\n",
    "data"
   ]
  },
  {
   "cell_type": "markdown",
   "id": "07fa47c2",
   "metadata": {},
   "source": [
    "Now let's declare the solver (MIP). This is a mixed integer programming problem."
   ]
  },
  {
   "cell_type": "code",
   "execution_count": 13,
   "id": "f05b720d",
   "metadata": {},
   "outputs": [],
   "source": [
    "solver = pywraplp.Solver.CreateSolver('SCIP')"
   ]
  },
  {
   "cell_type": "markdown",
   "id": "3b2d1fe1",
   "metadata": {},
   "source": [
    "Now let's create the choice variable. Each $x_{i,b}$ is a 0-1 binary variable, where $i$ stands for the item and $j$ is the bin. In the solution, $x_{i,b}$ will be 1 if item $i$ is placed in bin $j$, and 0 otherwise:"
   ]
  },
  {
   "cell_type": "code",
   "execution_count": 14,
   "id": "2ebbe794",
   "metadata": {},
   "outputs": [
    {
     "name": "stdout",
     "output_type": "stream",
     "text": [
      "a particular instance: x_14_4\n"
     ]
    },
    {
     "data": {
      "text/plain": [
       "{(0, 0): x_0_0,\n",
       " (0, 1): x_0_1,\n",
       " (0, 2): x_0_2,\n",
       " (0, 3): x_0_3,\n",
       " (0, 4): x_0_4,\n",
       " (1, 0): x_1_0,\n",
       " (1, 1): x_1_1,\n",
       " (1, 2): x_1_2,\n",
       " (1, 3): x_1_3,\n",
       " (1, 4): x_1_4,\n",
       " (2, 0): x_2_0,\n",
       " (2, 1): x_2_1,\n",
       " (2, 2): x_2_2,\n",
       " (2, 3): x_2_3,\n",
       " (2, 4): x_2_4,\n",
       " (3, 0): x_3_0,\n",
       " (3, 1): x_3_1,\n",
       " (3, 2): x_3_2,\n",
       " (3, 3): x_3_3,\n",
       " (3, 4): x_3_4,\n",
       " (4, 0): x_4_0,\n",
       " (4, 1): x_4_1,\n",
       " (4, 2): x_4_2,\n",
       " (4, 3): x_4_3,\n",
       " (4, 4): x_4_4,\n",
       " (5, 0): x_5_0,\n",
       " (5, 1): x_5_1,\n",
       " (5, 2): x_5_2,\n",
       " (5, 3): x_5_3,\n",
       " (5, 4): x_5_4,\n",
       " (6, 0): x_6_0,\n",
       " (6, 1): x_6_1,\n",
       " (6, 2): x_6_2,\n",
       " (6, 3): x_6_3,\n",
       " (6, 4): x_6_4,\n",
       " (7, 0): x_7_0,\n",
       " (7, 1): x_7_1,\n",
       " (7, 2): x_7_2,\n",
       " (7, 3): x_7_3,\n",
       " (7, 4): x_7_4,\n",
       " (8, 0): x_8_0,\n",
       " (8, 1): x_8_1,\n",
       " (8, 2): x_8_2,\n",
       " (8, 3): x_8_3,\n",
       " (8, 4): x_8_4,\n",
       " (9, 0): x_9_0,\n",
       " (9, 1): x_9_1,\n",
       " (9, 2): x_9_2,\n",
       " (9, 3): x_9_3,\n",
       " (9, 4): x_9_4,\n",
       " (10, 0): x_10_0,\n",
       " (10, 1): x_10_1,\n",
       " (10, 2): x_10_2,\n",
       " (10, 3): x_10_3,\n",
       " (10, 4): x_10_4,\n",
       " (11, 0): x_11_0,\n",
       " (11, 1): x_11_1,\n",
       " (11, 2): x_11_2,\n",
       " (11, 3): x_11_3,\n",
       " (11, 4): x_11_4,\n",
       " (12, 0): x_12_0,\n",
       " (12, 1): x_12_1,\n",
       " (12, 2): x_12_2,\n",
       " (12, 3): x_12_3,\n",
       " (12, 4): x_12_4,\n",
       " (13, 0): x_13_0,\n",
       " (13, 1): x_13_1,\n",
       " (13, 2): x_13_2,\n",
       " (13, 3): x_13_3,\n",
       " (13, 4): x_13_4,\n",
       " (14, 0): x_14_0,\n",
       " (14, 1): x_14_1,\n",
       " (14, 2): x_14_2,\n",
       " (14, 3): x_14_3,\n",
       " (14, 4): x_14_4,\n",
       " (15, 0): x_15_0,\n",
       " (15, 1): x_15_1,\n",
       " (15, 2): x_15_2,\n",
       " (15, 3): x_15_3,\n",
       " (15, 4): x_15_4}"
      ]
     },
     "execution_count": 14,
     "metadata": {},
     "output_type": "execute_result"
    }
   ],
   "source": [
    "x = {}\n",
    "for i in data['all_items']:\n",
    "    for b in data['all_bins']:\n",
    "        x[i, b] = solver.BoolVar(f'x_{i}_{b}')\n",
    "print('a particular instance:', x[14,4])\n",
    "x"
   ]
  },
  {
   "cell_type": "markdown",
   "id": "c94aa5c3",
   "metadata": {},
   "source": [
    "Now let's define the constraints of the problem. This is the hardest part. In a multiple knapsack problem, we require at least 2 constraints: \n",
    "\n",
    "   1. Each item is assigned to at most one bin.\n",
    "   2. The amount of items packed in each bin cannot exceed its maximum capacity. \n",
    "   \n",
    "In the OR scheduling problem, these 2 constraints can be translated as the following: each planned operation must be assigned at most one room (doctor cannot shift rooms during a single operation); in addition, the cumulative time of surgeries/operations within each operating room cannot exceed its maximum capacity. The maximum capacity is essentially defined as the maximum amount of minutes that can be used to perform these operations. Suppose we require that on each day, the operating room can function from 9:00am till 3:00pm. This way, the room has a maximum capacity of 6 hours ($6 \\times 60=360$ minutes). In reality, if we jam-pack 6 operations into one single room, we cannot implement such a plan because we have to set some time for cleaning and transition. We also have to consider that all the estimates of duration for each operation has some margin of error. So a realistic solution would be to set a utilization rate for each room (or a subset of all rooms). Let $ur$ define the utilization rate where its range is between 0 and 1. So this a hyperparameter that a scheduler can utilize. The higher the number, the more revenue the hospital can generate but it also runs the risk of all delays for subsequent operations. So there is a tradeoff certainly just like in an economic decisions made. So let's revise our maximum capacity. In the example, we will we will set the utilization rate to be 85%:"
   ]
  },
  {
   "cell_type": "code",
   "execution_count": 15,
   "id": "6d46c15d",
   "metadata": {},
   "outputs": [
    {
     "data": {
      "text/plain": [
       "{'weights': [50,\n",
       "  30,\n",
       "  420,\n",
       "  120,\n",
       "  36,\n",
       "  48,\n",
       "  150,\n",
       "  420,\n",
       "  36,\n",
       "  240,\n",
       "  30,\n",
       "  300,\n",
       "  100,\n",
       "  30,\n",
       "  30,\n",
       "  60],\n",
       " 'values': [7600,\n",
       "  1000,\n",
       "  3000,\n",
       "  2500,\n",
       "  500,\n",
       "  3500,\n",
       "  3000,\n",
       "  1520,\n",
       "  4000,\n",
       "  1000,\n",
       "  2230,\n",
       "  4500,\n",
       "  1000,\n",
       "  2800,\n",
       "  9000,\n",
       "  900],\n",
       " 'num_items': 16,\n",
       " 'all_items': range(0, 16),\n",
       " 'bin_capacities': [306.0, 306.0, 306.0, 306.0, 306.0],\n",
       " 'num_bins': 5,\n",
       " 'all_bins': range(0, 5)}"
      ]
     },
     "execution_count": 15,
     "metadata": {},
     "output_type": "execute_result"
    }
   ],
   "source": [
    "ur=0.85\n",
    "data['bin_capacities'] = [360, 360, 360, 360, 360]\n",
    "data['bin_capacities'] =[j * ur for j in data['bin_capacities']]\n",
    "data.update({'bin_capacities':data['bin_capacities']})\n",
    "data"
   ]
  },
  {
   "cell_type": "code",
   "execution_count": 16,
   "id": "42a69afc",
   "metadata": {},
   "outputs": [],
   "source": [
    "# Each item is assigned to at most one bin:\n",
    "for i in data['all_items']:\n",
    "    solver.Add(sum(x[i, b] for b in data['all_bins']) <= 1)\n",
    "\n",
    "# The amount (weights) packed in each bin cannot exceed its capacity:\n",
    "for b in data['all_bins']:\n",
    "    solver.Add(sum(x[i, b] * data['weights'][i]\n",
    "                   for i in data['all_items']) <= data['bin_capacities'][b])"
   ]
  },
  {
   "cell_type": "markdown",
   "id": "1b69fdf2",
   "metadata": {},
   "source": [
    "We now define the objective function, which is to maximize the total value of the packed items. In the OR scheduling problem, this refers to maximizing the potential revenue of the cases to be performed subject to the given constraints of the room utilization defined before:"
   ]
  },
  {
   "cell_type": "code",
   "execution_count": 17,
   "id": "3cfd2182",
   "metadata": {},
   "outputs": [],
   "source": [
    "objective = solver.Objective()\n",
    "\n",
    "for i in data['all_items']:\n",
    "    for b in data['all_bins']:\n",
    "        objective.SetCoefficient(x[i, b], data['values'][i])\n",
    "        \n",
    "objective.SetMaximization()"
   ]
  },
  {
   "cell_type": "markdown",
   "id": "b814a336",
   "metadata": {},
   "source": [
    "Note that $x_{i,b}$ times the element data['value'][i] adds the value of item $i$ to the objective if the item is placed in bin $j$. If $i$ is not  placed in any bin, its value doesn't contribute to the objective. \n",
    "\n",
    "Lastly, let's invoke the solver:"
   ]
  },
  {
   "cell_type": "code",
   "execution_count": 18,
   "id": "59e8ba1b",
   "metadata": {},
   "outputs": [],
   "source": [
    "status=solver.Solve()"
   ]
  },
  {
   "cell_type": "markdown",
   "id": "d16b9043",
   "metadata": {},
   "source": [
    "Now print the solution:"
   ]
  },
  {
   "cell_type": "code",
   "execution_count": 20,
   "id": "d948ccba",
   "metadata": {},
   "outputs": [
    {
     "name": "stdout",
     "output_type": "stream",
     "text": [
      "Total packed value: $43530.0 \n",
      "\n",
      "Bin 0:\n",
      "Item 0 weight: 50 (weights) value: $7600\n",
      "Item 4 weight: 36 (weights) value: $500\n",
      "Item 5 weight: 48 (weights) value: $3500\n",
      "Item 6 weight: 150 (weights) value: $3000\n",
      "Packed bin weight: 284\n",
      "Packed bin value: 14600\n",
      "\n",
      "Bin 1:\n",
      "Item 1 weight: 30 (weights) value: $1000\n",
      "Item 3 weight: 120 (weights) value: $2500\n",
      "Item 8 weight: 36 (weights) value: $4000\n",
      "Item 10 weight: 30 (weights) value: $2230\n",
      "Item 13 weight: 30 (weights) value: $2800\n",
      "Item 15 weight: 60 (weights) value: $900\n",
      "Packed bin weight: 306\n",
      "Packed bin value: 13430\n",
      "\n",
      "Bin 2:\n",
      "Item 11 weight: 300 (weights) value: $4500\n",
      "Packed bin weight: 300\n",
      "Packed bin value: 4500\n",
      "\n",
      "Bin 3:\n",
      "Item 9 weight: 240 (weights) value: $1000\n",
      "Item 14 weight: 30 (weights) value: $9000\n",
      "Packed bin weight: 270\n",
      "Packed bin value: 10000\n",
      "\n",
      "Bin 4:\n",
      "Item 12 weight: 100 (weights) value: $1000\n",
      "Packed bin weight: 100\n",
      "Packed bin value: 1000\n",
      "\n",
      "Total packed weight: 1260\n"
     ]
    }
   ],
   "source": [
    "if status == pywraplp.Solver.OPTIMAL:\n",
    "    print(f\"Total packed value: ${objective.Value()}\", '\\n')\n",
    "    total_weight = 0\n",
    "    for b in data['all_bins']:\n",
    "        print(f'Bin {b}:')\n",
    "        bin_weight = 0\n",
    "        bin_value = 0\n",
    "        for i in data['all_items']:\n",
    "            if x[i, b].solution_value() > 0:\n",
    "                print(\n",
    "                    f\"Item {i} weight: {data['weights'][i]} (weights) value: ${data['values'][i]}\"\n",
    "                )\n",
    "                bin_weight += data['weights'][i]\n",
    "                bin_value += data['values'][i]\n",
    "        print(f'Packed bin weight: {bin_weight}')\n",
    "        print(f'Packed bin value: {bin_value}\\n')\n",
    "        total_weight += bin_weight\n",
    "    print(f'Total packed weight: {total_weight}')\n",
    "else:\n",
    "    print('The problem does not have an optimal solution.')"
   ]
  },
  {
   "cell_type": "code",
   "execution_count": null,
   "id": "f1df2ab5",
   "metadata": {},
   "outputs": [],
   "source": []
  },
  {
   "cell_type": "code",
   "execution_count": null,
   "id": "f2d0103a",
   "metadata": {},
   "outputs": [],
   "source": []
  },
  {
   "cell_type": "markdown",
   "id": "ba40fde7",
   "metadata": {},
   "source": [
    "#### References:\n",
    "\n",
    "   - https://developers.google.com/optimization/bin/multiple_knapsack\n",
    "   - https://developers.google.com/optimization/bin/bin \n",
    "   "
   ]
  },
  {
   "cell_type": "code",
   "execution_count": null,
   "id": "a6c8e425",
   "metadata": {},
   "outputs": [],
   "source": []
  }
 ],
 "metadata": {
  "kernelspec": {
   "display_name": "Python 3",
   "language": "python",
   "name": "python3"
  },
  "language_info": {
   "codemirror_mode": {
    "name": "ipython",
    "version": 3
   },
   "file_extension": ".py",
   "mimetype": "text/x-python",
   "name": "python",
   "nbconvert_exporter": "python",
   "pygments_lexer": "ipython3",
   "version": "3.7.3"
  }
 },
 "nbformat": 4,
 "nbformat_minor": 5
}
